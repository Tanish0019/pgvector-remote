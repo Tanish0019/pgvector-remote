{
 "cells": [
  {
   "cell_type": "code",
   "execution_count": null,
   "metadata": {},
   "outputs": [],
   "source": [
    "import psycopg\n",
    "from pgvector.psycopg import register_vector"
   ]
  },
  {
   "cell_type": "code",
   "execution_count": null,
   "metadata": {},
   "outputs": [],
   "source": [
    "# connect to database d with user postgres and password postgres\n",
    "\n",
    "conn = psycopg.connect(\n",
    "    dbname='oscar',\n",
    "    user='oscar',\n",
    "    password='oscar',\n",
    "    host='localhost',\n",
    "    autocommit=True\n",
    ")\n",
    "# register_vector(conn)"
   ]
  },
  {
   "cell_type": "code",
   "execution_count": null,
   "metadata": {},
   "outputs": [],
   "source": [
    "cur = conn.cursor()\n",
    "cur.execute(\"DROP EXTENSION IF EXISTS vector CASCADE\")\n",
    "cur.execute(\"CREATE EXTENSION vector\")\n",
    "register_vector(conn)"
   ]
  },
  {
   "cell_type": "code",
   "execution_count": null,
   "metadata": {},
   "outputs": [],
   "source": [
    "import numpy as np\n",
    "cur = conn.cursor()\n",
    "cur.execute(\"DROP TABLE IF EXISTS test\")\n",
    "cur.execute(\"CREATE TABLE test (id serial PRIMARY KEY, vec vector(3))\")\n",
    "cur.execute(\"INSERT INTO test (vec) VALUES (%s)\", (np.array([1, 2, 3]),))\n",
    "cur.execute(\"SELECT * FROM test\")\n",
    "print(cur.fetchall())"
   ]
  },
  {
   "cell_type": "code",
   "execution_count": null,
   "metadata": {},
   "outputs": [],
   "source": [
    "# set the pinecone api key\n",
    "cur = conn.cursor()\n",
    "cur.execute(\"ALTER SYSTEM SET remote.pinecone_api_key TO 'your-api-key-here'\")\n",
    "cur.execute(\"SHOW remote.pinecone_api_key\")\n",
    "print(cur.fetchall())"
   ]
  },
  {
   "cell_type": "code",
   "execution_count": null,
   "metadata": {},
   "outputs": [],
   "source": [
    "# create a pinecone index\n",
    "cur = conn.cursor()\n",
    "import json\n",
    "basic_spec = {'serverless': {'cloud': 'aws', 'region': 'us-west-2'}}\n",
    "cur.execute(\"CREATE INDEX test_index ON test USING remote (vec) with (spec = '%s')\" % json.dumps(basic_spec))\n"
   ]
  },
  {
   "cell_type": "code",
   "execution_count": null,
   "metadata": {},
   "outputs": [],
   "source": [
    "# set debugging level to debug1\n",
    "import pprint\n",
    "def notice_handler(notice):\n",
    "                print(\"Received notice:\", notice.message_primary)\n",
    "                # user pprint to print the notice as a dictionary\n",
    "                # pprint(notice.__reduce__())\n",
    "# if not any notice handlers\n",
    "conn.notice_handlers = []\n",
    "conn.add_notice_handler(notice_handler)\n",
    "for handler in conn.notice_handlers:\n",
    "    print(handler)\n",
    "\n",
    "cur = conn.cursor()\n",
    "debug_level = \"notice\"\n",
    "cur.execute(\"ALTER SYSTEM SET client_min_messages TO '%s'\" % debug_level)\n",
    "cur.execute(\"SELECT pg_reload_conf()\")\n",
    "cur.execute(\"SHOW client_min_messages\")\n",
    "print(cur.fetchall())"
   ]
  },
  {
   "cell_type": "code",
   "execution_count": null,
   "metadata": {},
   "outputs": [],
   "source": [
    "# query the index\n",
    "cur = conn.cursor()\n",
    "cur.execute(\"SET enable_seqscan = off\")\n",
    "cur.execute(\"SELECT * FROM test ORDER BY vec <-> %s LIMIT 1\", (np.array([1, 2, 3]),))\n",
    "print(cur.fetchall())"
   ]
  },
  {
   "cell_type": "code",
   "execution_count": null,
   "metadata": {},
   "outputs": [],
   "source": [
    "# batch query\n",
    "for _ in range(10):\n",
    "    cur.execute(\"SELECT * FROM test ORDER BY vec <-> %s LIMIT 1\", (np.random.rand(3),))\n",
    "    print(cur.fetchall())"
   ]
  },
  {
   "cell_type": "code",
   "execution_count": null,
   "metadata": {},
   "outputs": [],
   "source": [
    "import asyncpg\n",
    "async def async_query(pool):\n",
    "    async with pool.acquire() as conn:\n",
    "        print(\"connection acquired from pool\")\n",
    "        # conn.execute(\"SELECT * FROM test ORDER BY vec <-> '[1,2,3]' LIMIT 1\")\n",
    "        print(await conn.fetch(\"SELECT * FROM test ORDER BY vec <-> '[1,2,3]' LIMIT 1\"))\n",
    "\n",
    "# Run the async_query function\n",
    "async def run_async_query():\n",
    "    pool = await asyncpg.create_pool(user='oscar', password='oscar', database='oscar', host='localhost', min_size=2, max_size=20)\n",
    "    await async_query(pool)\n",
    "    await pool.close()\n",
    "\n",
    "async def run_async_queries():\n",
    "    pool = await asyncpg.create_pool(user='oscar', password='oscar', database='oscar', host='localhost', min_size=2, max_size=20)\n",
    "    await asyncio.gather(*[async_query(pool) for _ in range(10)])\n",
    "    await pool.close()\n",
    "\n",
    "await run_async_queries()"
   ]
  }
 ],
 "metadata": {
  "kernelspec": {
   "display_name": ".venv",
   "language": "python",
   "name": "python3"
  },
  "language_info": {
   "codemirror_mode": {
    "name": "ipython",
    "version": 3
   },
   "file_extension": ".py",
   "mimetype": "text/x-python",
   "name": "python",
   "nbconvert_exporter": "python",
   "pygments_lexer": "ipython3",
   "version": "3.10.12"
  }
 },
 "nbformat": 4,
 "nbformat_minor": 2
}
